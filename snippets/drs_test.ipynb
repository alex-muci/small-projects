{
 "cells": [
  {
   "cell_type": "code",
   "execution_count": 34,
   "metadata": {},
   "outputs": [],
   "source": [
    "from drs import drs, scaled_dirichlet"
   ]
  },
  {
   "cell_type": "code",
   "execution_count": 15,
   "metadata": {},
   "outputs": [],
   "source": [
    "import numpy  as np\n",
    "import os\n",
    "\n",
    "def __cts(limits: np.array) -> np.array:\n",
    "    \"\"\"Converts constraints into the coodinates of a constraints simplex\"\"\"\n",
    "    simplex_coords = np.zeros([limits.size, limits.size], dtype=np.float64)\n",
    "    for index in range(len(limits)):\n",
    "        simplex_coords[index][:] = limits\n",
    "        simplex_coords[index][index] = 0.0\n",
    "        simplex_coords[index][index] = 1 - simplex_coords[index].sum()\n",
    "    return simplex_coords"
   ]
  },
  {
   "cell_type": "code",
   "execution_count": 16,
   "metadata": {},
   "outputs": [
    {
     "data": {
      "text/plain": [
       "numpy.float64"
      ]
     },
     "execution_count": 16,
     "metadata": {},
     "output_type": "execute_result"
    }
   ],
   "source": [
    "DTYPE"
   ]
  },
  {
   "cell_type": "code",
   "execution_count": 25,
   "metadata": {},
   "outputs": [
    {
     "data": {
      "text/plain": [
       "array([[ 5.5, -0.5, -0.5, -0.5, -0.5, -0.5, -0.5, -0.5, -0.5, -0.5],\n",
       "       [-0.5,  5.5, -0.5, -0.5, -0.5, -0.5, -0.5, -0.5, -0.5, -0.5],\n",
       "       [-0.5, -0.5,  5.5, -0.5, -0.5, -0.5, -0.5, -0.5, -0.5, -0.5],\n",
       "       [-0.5, -0.5, -0.5,  5.5, -0.5, -0.5, -0.5, -0.5, -0.5, -0.5],\n",
       "       [-0.5, -0.5, -0.5, -0.5,  5.5, -0.5, -0.5, -0.5, -0.5, -0.5],\n",
       "       [-0.5, -0.5, -0.5, -0.5, -0.5,  5.5, -0.5, -0.5, -0.5, -0.5],\n",
       "       [-0.5, -0.5, -0.5, -0.5, -0.5, -0.5,  5.5, -0.5, -0.5, -0.5],\n",
       "       [-0.5, -0.5, -0.5, -0.5, -0.5, -0.5, -0.5,  5.5, -0.5, -0.5],\n",
       "       [-0.5, -0.5, -0.5, -0.5, -0.5, -0.5, -0.5, -0.5,  5.5, -0.5],\n",
       "       [-0.5, -0.5, -0.5, -0.5, -0.5, -0.5, -0.5, -0.5, -0.5,  5.5]])"
      ]
     },
     "execution_count": 25,
     "metadata": {},
     "output_type": "execute_result"
    }
   ],
   "source": [
    "cts = __cts(np.array([-0.5]*10))\n",
    "cts"
   ]
  },
  {
   "cell_type": "code",
   "execution_count": 27,
   "metadata": {},
   "outputs": [
    {
     "data": {
      "text/plain": [
       "array([1., 1., 1., 1., 1., 1., 1., 1., 1., 1.])"
      ]
     },
     "execution_count": 27,
     "metadata": {},
     "output_type": "execute_result"
    }
   ],
   "source": [
    "cts.sum(axis=0)"
   ]
  },
  {
   "cell_type": "code",
   "execution_count": 32,
   "metadata": {},
   "outputs": [
    {
     "name": "stdout",
     "output_type": "stream",
     "text": [
      "1.32 ms ± 218 µs per loop (mean ± std. dev. of 7 runs, 1000 loops each)\n"
     ]
    }
   ],
   "source": [
    "n = 50\n",
    "%timeit drs(n, 1., [0.2]*n, [0.]*n)"
   ]
  },
  {
   "cell_type": "code",
   "execution_count": 42,
   "metadata": {},
   "outputs": [
    {
     "data": {
      "text/plain": [
       "[0.354211364789997,\n",
       " 0.04692378600880321,\n",
       " 0.24512918906412093,\n",
       " 0.20963246914646033,\n",
       " 0.1441031909906185]"
      ]
     },
     "execution_count": 42,
     "metadata": {},
     "output_type": "execute_result"
    }
   ],
   "source": [
    "scaled_dirichlet(5, 1)"
   ]
  },
  {
   "cell_type": "code",
   "execution_count": null,
   "metadata": {},
   "outputs": [],
   "source": []
  }
 ],
 "metadata": {
  "kernelspec": {
   "display_name": "Python 3",
   "language": "python",
   "name": "python3"
  },
  "language_info": {
   "codemirror_mode": {
    "name": "ipython",
    "version": 3
   },
   "file_extension": ".py",
   "mimetype": "text/x-python",
   "name": "python",
   "nbconvert_exporter": "python",
   "pygments_lexer": "ipython3",
   "version": "3.6.8"
  }
 },
 "nbformat": 4,
 "nbformat_minor": 4
}
